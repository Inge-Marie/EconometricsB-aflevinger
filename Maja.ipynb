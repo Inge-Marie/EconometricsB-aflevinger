{
 "cells": [
  {
   "cell_type": "markdown",
   "metadata": {},
   "source": [
    "**Linear Panel Data and Production Technology**"
   ]
  },
  {
   "cell_type": "code",
   "execution_count": 27,
   "metadata": {},
   "outputs": [],
   "source": [
    "import pandas as pd \n",
    "import numpy as np\n",
    "import seaborn as sns\n",
    "import statsmodels.api as sm\n",
    "import statsmodels.formula.api as smf\n",
    "from linearmodels.panel import PanelOLS, RandomEffects\n",
    "from scipy.stats import chi2"
   ]
  },
  {
   "cell_type": "markdown",
   "metadata": {},
   "source": [
    "**1 Cobb-Douglas Production**"
   ]
  },
  {
   "cell_type": "code",
   "execution_count": 28,
   "metadata": {},
   "outputs": [],
   "source": [
    "\n",
    "# Indlæs data fra firms.csv\n",
    "dat = pd.read_csv('firms.csv') "
   ]
  },
  {
   "cell_type": "code",
   "execution_count": 29,
   "metadata": {},
   "outputs": [
    {
     "data": {
      "text/html": [
       "<div>\n",
       "<style scoped>\n",
       "    .dataframe tbody tr th:only-of-type {\n",
       "        vertical-align: middle;\n",
       "    }\n",
       "\n",
       "    .dataframe tbody tr th {\n",
       "        vertical-align: top;\n",
       "    }\n",
       "\n",
       "    .dataframe thead th {\n",
       "        text-align: right;\n",
       "    }\n",
       "</style>\n",
       "<table border=\"1\" class=\"dataframe\">\n",
       "  <thead>\n",
       "    <tr style=\"text-align: right;\">\n",
       "      <th></th>\n",
       "      <th>firmid</th>\n",
       "      <th>year</th>\n",
       "      <th>lcap</th>\n",
       "      <th>lemp</th>\n",
       "      <th>ldsa</th>\n",
       "    </tr>\n",
       "  </thead>\n",
       "  <tbody>\n",
       "    <tr>\n",
       "      <th>196</th>\n",
       "      <td>17</td>\n",
       "      <td>1972</td>\n",
       "      <td>1.321425</td>\n",
       "      <td>1.216899</td>\n",
       "      <td>0.978104</td>\n",
       "    </tr>\n",
       "    <tr>\n",
       "      <th>1881</th>\n",
       "      <td>157</td>\n",
       "      <td>1977</td>\n",
       "      <td>-1.289410</td>\n",
       "      <td>-1.400780</td>\n",
       "      <td>-1.602180</td>\n",
       "    </tr>\n",
       "    <tr>\n",
       "      <th>353</th>\n",
       "      <td>30</td>\n",
       "      <td>1973</td>\n",
       "      <td>-0.995853</td>\n",
       "      <td>-1.110700</td>\n",
       "      <td>-1.430240</td>\n",
       "    </tr>\n",
       "    <tr>\n",
       "      <th>2438</th>\n",
       "      <td>204</td>\n",
       "      <td>1970</td>\n",
       "      <td>-2.389200</td>\n",
       "      <td>-3.093220</td>\n",
       "      <td>-2.863850</td>\n",
       "    </tr>\n",
       "    <tr>\n",
       "      <th>79</th>\n",
       "      <td>7</td>\n",
       "      <td>1975</td>\n",
       "      <td>1.181523</td>\n",
       "      <td>1.023383</td>\n",
       "      <td>0.749660</td>\n",
       "    </tr>\n",
       "  </tbody>\n",
       "</table>\n",
       "</div>"
      ],
      "text/plain": [
       "      firmid  year      lcap      lemp      ldsa\n",
       "196       17  1972  1.321425  1.216899  0.978104\n",
       "1881     157  1977 -1.289410 -1.400780 -1.602180\n",
       "353       30  1973 -0.995853 -1.110700 -1.430240\n",
       "2438     204  1970 -2.389200 -3.093220 -2.863850\n",
       "79         7  1975  1.181523  1.023383  0.749660"
      ]
     },
     "execution_count": 29,
     "metadata": {},
     "output_type": "execute_result"
    }
   ],
   "source": [
    "dat.sample(5) # Returnerer en tilfældig prøve på 5 rækker fra dat-dataframen."
   ]
  },
  {
   "cell_type": "code",
   "execution_count": 30,
   "metadata": {},
   "outputs": [
    {
     "data": {
      "text/plain": [
       "array([1968, 1969, 1970, 1971, 1972, 1973, 1974, 1975, 1976, 1977, 1978,\n",
       "       1979])"
      ]
     },
     "execution_count": 30,
     "metadata": {},
     "output_type": "execute_result"
    }
   ],
   "source": [
    "dat.year.unique() # returnerer en numpy-array med alle unikke værdier i kolonnen year fra dataframen dat"
   ]
  },
  {
   "cell_type": "code",
   "execution_count": 31,
   "metadata": {},
   "outputs": [
    {
     "name": "stdout",
     "output_type": "stream",
     "text": [
      "Index(['firmid', 'year', 'lcap', 'lemp', 'ldsa'], dtype='object')\n"
     ]
    }
   ],
   "source": [
    "print(dat.columns)\n"
   ]
  },
  {
   "cell_type": "code",
   "execution_count": 32,
   "metadata": {},
   "outputs": [
    {
     "name": "stdout",
     "output_type": "stream",
     "text": [
      "Pooled OLS:\n",
      "                             OLS Regression Results                            \n",
      "==============================================================================\n",
      "Dep. Variable:                   ldsa   R-squared:                       0.914\n",
      "Model:                            OLS   Adj. R-squared:                  0.914\n",
      "Method:                 Least Squares   F-statistic:                 2.807e+04\n",
      "Date:                Tue, 18 Feb 2025   Prob (F-statistic):               0.00\n",
      "Time:                        11:14:08   Log-Likelihood:                -2125.9\n",
      "No. Observations:                5292   AIC:                             4258.\n",
      "Df Residuals:                    5289   BIC:                             4277.\n",
      "Df Model:                           2                                         \n",
      "Covariance Type:            nonrobust                                         \n",
      "==============================================================================\n",
      "                 coef    std err          t      P>|t|      [0.025      0.975]\n",
      "------------------------------------------------------------------------------\n",
      "Intercept   1.536e-08      0.005   3.09e-06      1.000      -0.010       0.010\n",
      "lcap           0.3100      0.009     33.924      0.000       0.292       0.328\n",
      "lempl          0.6748      0.010     66.462      0.000       0.655       0.695\n",
      "==============================================================================\n",
      "Omnibus:                      279.597   Durbin-Watson:                   0.277\n",
      "Prob(Omnibus):                  0.000   Jarque-Bera (JB):              417.873\n",
      "Skew:                           0.465   Prob(JB):                     1.82e-91\n",
      "Kurtosis:                       4.015   Cond. No.                         4.63\n",
      "==============================================================================\n",
      "\n",
      "Notes:\n",
      "[1] Standard Errors assume that the covariance matrix of the errors is correctly specified.\n",
      "\n",
      "Fixed Effects:\n",
      "                           PanelOLS Estimation Summary                           \n",
      "================================================================================\n",
      "Dep. Variable:                   ldsa   R-squared:                        0.9139\n",
      "Estimator:                   PanelOLS   R-squared (Between):             -2.2946\n",
      "No. Observations:                5292   R-squared (Within):               0.9139\n",
      "Date:                Tue, Feb 18 2025   R-squared (Overall):              0.9139\n",
      "Time:                        11:14:08   Log-likelihood                   -2125.9\n",
      "Cov. Estimator:            Unadjusted                                           \n",
      "                                        F-statistic:                   2.801e+04\n",
      "Entities:                          12   P-value                           0.0000\n",
      "Avg Obs:                       441.00   Distribution:                  F(2,5278)\n",
      "Min Obs:                       441.00                                           \n",
      "Max Obs:                       441.00   F-statistic (robust):          2.801e+04\n",
      "                                        P-value                           0.0000\n",
      "Time periods:                    5292   Distribution:                  F(2,5278)\n",
      "Avg Obs:                       1.0000                                           \n",
      "Min Obs:                       1.0000                                           \n",
      "Max Obs:                       1.0000                                           \n",
      "                                                                                \n",
      "                             Parameter Estimates                              \n",
      "==============================================================================\n",
      "            Parameter  Std. Err.     T-stat    P-value    Lower CI    Upper CI\n",
      "------------------------------------------------------------------------------\n",
      "lcap           0.3100     0.0091     33.888     0.0000      0.2921      0.3280\n",
      "lempl          0.6748     0.0102     66.393     0.0000      0.6549      0.6947\n",
      "==============================================================================\n",
      "\n",
      "F-test for Poolability: 3.177e-11\n",
      "P-value: 1.0000\n",
      "Distribution: F(11,5278)\n",
      "\n",
      "Included effects: Entity\n",
      "\n",
      "Random Effects:\n",
      "                         RandomEffects Estimation Summary                        \n",
      "================================================================================\n",
      "Dep. Variable:                   ldsa   R-squared:                        0.9139\n",
      "Estimator:              RandomEffects   R-squared (Between):             -2.2946\n",
      "No. Observations:                5292   R-squared (Within):               0.9139\n",
      "Date:                Tue, Feb 18 2025   R-squared (Overall):              0.9139\n",
      "Time:                        11:14:08   Log-likelihood                   -2125.9\n",
      "Cov. Estimator:            Unadjusted                                           \n",
      "                                        F-statistic:                   2.808e+04\n",
      "Entities:                          12   P-value                           0.0000\n",
      "Avg Obs:                       441.00   Distribution:                  F(2,5290)\n",
      "Min Obs:                       441.00                                           \n",
      "Max Obs:                       441.00   F-statistic (robust):          2.808e+04\n",
      "                                        P-value                           0.0000\n",
      "Time periods:                    5292   Distribution:                  F(2,5290)\n",
      "Avg Obs:                       1.0000                                           \n",
      "Min Obs:                       1.0000                                           \n",
      "Max Obs:                       1.0000                                           \n",
      "                                                                                \n",
      "                             Parameter Estimates                              \n",
      "==============================================================================\n",
      "            Parameter  Std. Err.     T-stat    P-value    Lower CI    Upper CI\n",
      "------------------------------------------------------------------------------\n",
      "lcap           0.3100     0.0091     33.927     0.0000      0.2921      0.3280\n",
      "lempl          0.6748     0.0102     66.469     0.0000      0.6549      0.6947\n",
      "==============================================================================\n",
      "\n",
      "Wald-test for konstant skalaafkast: Test-statistik = 1.233, p-værdi = 0.267\n",
      "\n",
      "Hausman-test mellem FE og RE: Test-statistik = 0.000, p-værdi = 1.000\n"
     ]
    }
   ],
   "source": [
    "# Omdøb variabelnavne for konsistens\n",
    "expected_cols = {'lemp': 'lempl'}\n",
    "dat.rename(columns={k: v for k, v in expected_cols.items() if k in dat.columns}, inplace=True)\n",
    "\n",
    "# Tjek om alle nødvendige variabler er til stede\n",
    "required_vars = {'ldsa', 'lcap', 'lempl'}\n",
    "missing_vars = required_vars - set(dat.columns)\n",
    "\n",
    "if missing_vars:\n",
    "    raise ValueError(f\"Manglende variabler i datasæt: {missing_vars}\")\n",
    "\n",
    "# Konverter til paneldata format\n",
    "dat['year'] = dat.index % 12  # Antager år er implicit givet i data\n",
    "dat = dat.set_index(['year', dat.index])\n",
    "\n",
    "# Estimer Pooled OLS\n",
    "pooled_ols = smf.ols('ldsa ~ lcap + lempl', data=dat).fit()\n",
    "\n",
    "# Estimer Fixed Effects (FE)\n",
    "fe_model = PanelOLS.from_formula('ldsa ~ lcap + lempl + EntityEffects', data=dat).fit()\n",
    "\n",
    "# Estimer Random Effects (RE)\n",
    "re_model = RandomEffects.from_formula('ldsa ~ lcap + lempl', data=dat).fit()\n",
    "\n",
    "# Hypotesetest: Konstant skalaafkast\n",
    "beta_k, beta_l = fe_model.params['lcap'], fe_model.params['lempl']\n",
    "wald_stat = ((beta_k + beta_l - 1)**2) / (fe_model.cov.iloc[0, 0] + fe_model.cov.iloc[1, 1])\n",
    "p_value = 1 - chi2.cdf(wald_stat, 1)\n",
    "\n",
    "# Hausman-test mellem FE og RE\n",
    "diff = fe_model.params - re_model.params\n",
    "var_diff = fe_model.cov + re_model.cov\n",
    "hausman_stat = diff.T @ np.linalg.inv(var_diff) @ diff\n",
    "hausman_p_value = 1 - chi2.cdf(hausman_stat, len(diff))\n",
    "\n",
    "# Udskriv resultater\n",
    "print(\"Pooled OLS:\\n\", pooled_ols.summary())\n",
    "print(\"\\nFixed Effects:\\n\", fe_model.summary)\n",
    "print(\"\\nRandom Effects:\\n\", re_model.summary)\n",
    "print(f\"\\nWald-test for konstant skalaafkast: Test-statistik = {wald_stat:.3f}, p-værdi = {p_value:.3f}\")\n",
    "print(f\"\\nHausman-test mellem FE og RE: Test-statistik = {hausman_stat:.3f}, p-værdi = {hausman_p_value:.3f}\")\n"
   ]
  }
 ],
 "metadata": {
  "kernelspec": {
   "display_name": "base",
   "language": "python",
   "name": "python3"
  },
  "language_info": {
   "codemirror_mode": {
    "name": "ipython",
    "version": 3
   },
   "file_extension": ".py",
   "mimetype": "text/x-python",
   "name": "python",
   "nbconvert_exporter": "python",
   "pygments_lexer": "ipython3",
   "version": "3.11.7"
  }
 },
 "nbformat": 4,
 "nbformat_minor": 2
}
