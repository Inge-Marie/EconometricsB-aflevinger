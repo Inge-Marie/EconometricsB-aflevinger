{
 "cells": [
  {
   "cell_type": "markdown",
   "metadata": {},
   "source": [
    "**Linear Panel Data and Production Technology**"
   ]
  },
  {
   "cell_type": "code",
   "execution_count": 70,
   "metadata": {},
   "outputs": [],
   "source": [
    "import pandas as pd \n",
    "import numpy as np\n",
    "import seaborn as sns\n",
    "import statsmodels.api as sm\n",
    "import statsmodels.formula.api as smf\n",
    "from linearmodels.panel import PanelOLS, RandomEffects\n",
    "from scipy.stats import chi2"
   ]
  },
  {
   "cell_type": "markdown",
   "metadata": {},
   "source": [
    "**1 Cobb-Douglas Production**"
   ]
  },
  {
   "cell_type": "code",
   "execution_count": 72,
   "metadata": {},
   "outputs": [
    {
     "data": {
      "text/html": [
       "<div>\n",
       "<style scoped>\n",
       "    .dataframe tbody tr th:only-of-type {\n",
       "        vertical-align: middle;\n",
       "    }\n",
       "\n",
       "    .dataframe tbody tr th {\n",
       "        vertical-align: top;\n",
       "    }\n",
       "\n",
       "    .dataframe thead th {\n",
       "        text-align: right;\n",
       "    }\n",
       "</style>\n",
       "<table border=\"1\" class=\"dataframe\">\n",
       "  <thead>\n",
       "    <tr style=\"text-align: right;\">\n",
       "      <th></th>\n",
       "      <th>firmid</th>\n",
       "      <th>year</th>\n",
       "      <th>lcap</th>\n",
       "      <th>lemp</th>\n",
       "      <th>ldsa</th>\n",
       "    </tr>\n",
       "  </thead>\n",
       "  <tbody>\n",
       "    <tr>\n",
       "      <th>1578</th>\n",
       "      <td>132</td>\n",
       "      <td>1974</td>\n",
       "      <td>0.180520</td>\n",
       "      <td>-0.848608</td>\n",
       "      <td>-0.311142</td>\n",
       "    </tr>\n",
       "    <tr>\n",
       "      <th>4812</th>\n",
       "      <td>402</td>\n",
       "      <td>1968</td>\n",
       "      <td>1.423460</td>\n",
       "      <td>1.559597</td>\n",
       "      <td>1.385296</td>\n",
       "    </tr>\n",
       "    <tr>\n",
       "      <th>762</th>\n",
       "      <td>64</td>\n",
       "      <td>1974</td>\n",
       "      <td>0.308080</td>\n",
       "      <td>-0.363891</td>\n",
       "      <td>-0.757899</td>\n",
       "    </tr>\n",
       "    <tr>\n",
       "      <th>3407</th>\n",
       "      <td>284</td>\n",
       "      <td>1979</td>\n",
       "      <td>0.912276</td>\n",
       "      <td>1.400748</td>\n",
       "      <td>0.878726</td>\n",
       "    </tr>\n",
       "    <tr>\n",
       "      <th>1079</th>\n",
       "      <td>90</td>\n",
       "      <td>1979</td>\n",
       "      <td>-1.072050</td>\n",
       "      <td>-0.954158</td>\n",
       "      <td>-1.130160</td>\n",
       "    </tr>\n",
       "  </tbody>\n",
       "</table>\n",
       "</div>"
      ],
      "text/plain": [
       "      firmid  year      lcap      lemp      ldsa\n",
       "1578     132  1974  0.180520 -0.848608 -0.311142\n",
       "4812     402  1968  1.423460  1.559597  1.385296\n",
       "762       64  1974  0.308080 -0.363891 -0.757899\n",
       "3407     284  1979  0.912276  1.400748  0.878726\n",
       "1079      90  1979 -1.072050 -0.954158 -1.130160"
      ]
     },
     "execution_count": 72,
     "metadata": {},
     "output_type": "execute_result"
    }
   ],
   "source": [
    "dat.sample(5) # Returnerer en tilfældig prøve på 5 rækker fra dat-dataframen."
   ]
  },
  {
   "cell_type": "code",
   "execution_count": 73,
   "metadata": {},
   "outputs": [
    {
     "data": {
      "text/plain": [
       "array([1968, 1969, 1970, 1971, 1972, 1973, 1974, 1975, 1976, 1977, 1978,\n",
       "       1979])"
      ]
     },
     "execution_count": 73,
     "metadata": {},
     "output_type": "execute_result"
    }
   ],
   "source": [
    "dat.year.unique() # returnerer en numpy-array med alle unikke værdier i kolonnen year fra dataframen dat"
   ]
  },
  {
   "cell_type": "code",
   "execution_count": 74,
   "metadata": {},
   "outputs": [
    {
     "name": "stdout",
     "output_type": "stream",
     "text": [
      "Index(['firmid', 'year', 'lcap', 'lemp', 'ldsa'], dtype='object')\n"
     ]
    }
   ],
   "source": [
    "print(dat.columns)\n"
   ]
  },
  {
   "cell_type": "code",
   "execution_count": 82,
   "metadata": {},
   "outputs": [
    {
     "name": "stdout",
     "output_type": "stream",
     "text": [
      "Pooled OLS:\n",
      "                             OLS Regression Results                            \n",
      "==============================================================================\n",
      "Dep. Variable:                   ldsa   R-squared:                       0.914\n",
      "Model:                            OLS   Adj. R-squared:                  0.914\n",
      "Method:                 Least Squares   F-statistic:                 2.807e+04\n",
      "Date:                Tue, 18 Feb 2025   Prob (F-statistic):               0.00\n",
      "Time:                        11:32:46   Log-Likelihood:                -2125.9\n",
      "No. Observations:                5292   AIC:                             4258.\n",
      "Df Residuals:                    5289   BIC:                             4277.\n",
      "Df Model:                           2                                         \n",
      "Covariance Type:            nonrobust                                         \n",
      "==============================================================================\n",
      "                 coef    std err          t      P>|t|      [0.025      0.975]\n",
      "------------------------------------------------------------------------------\n",
      "Intercept   1.536e-08      0.005   3.09e-06      1.000      -0.010       0.010\n",
      "lcap           0.3100      0.009     33.924      0.000       0.292       0.328\n",
      "lemp           0.6748      0.010     66.462      0.000       0.655       0.695\n",
      "==============================================================================\n",
      "Omnibus:                      279.597   Durbin-Watson:                   0.277\n",
      "Prob(Omnibus):                  0.000   Jarque-Bera (JB):              417.873\n",
      "Skew:                           0.465   Prob(JB):                     1.82e-91\n",
      "Kurtosis:                       4.015   Cond. No.                         4.63\n",
      "==============================================================================\n",
      "\n",
      "Notes:\n",
      "[1] Standard Errors assume that the covariance matrix of the errors is correctly specified.\n",
      "\n",
      "Fixed Effects:\n",
      "                           PanelOLS Estimation Summary                           \n",
      "================================================================================\n",
      "Dep. Variable:                   ldsa   R-squared:                        0.9139\n",
      "Estimator:                   PanelOLS   R-squared (Between):             -2.2946\n",
      "No. Observations:                5292   R-squared (Within):               0.9139\n",
      "Date:                Tue, Feb 18 2025   R-squared (Overall):              0.9139\n",
      "Time:                        11:32:45   Log-likelihood                   -2125.9\n",
      "Cov. Estimator:            Unadjusted                                           \n",
      "                                        F-statistic:                   2.801e+04\n",
      "Entities:                          12   P-value                           0.0000\n",
      "Avg Obs:                       441.00   Distribution:                  F(2,5278)\n",
      "Min Obs:                       441.00                                           \n",
      "Max Obs:                       441.00   F-statistic (robust):          2.801e+04\n",
      "                                        P-value                           0.0000\n",
      "Time periods:                    5292   Distribution:                  F(2,5278)\n",
      "Avg Obs:                       1.0000                                           \n",
      "Min Obs:                       1.0000                                           \n",
      "Max Obs:                       1.0000                                           \n",
      "                                                                                \n",
      "                             Parameter Estimates                              \n",
      "==============================================================================\n",
      "            Parameter  Std. Err.     T-stat    P-value    Lower CI    Upper CI\n",
      "------------------------------------------------------------------------------\n",
      "lcap           0.3100     0.0091     33.888     0.0000      0.2921      0.3280\n",
      "lemp           0.6748     0.0102     66.393     0.0000      0.6549      0.6947\n",
      "==============================================================================\n",
      "\n",
      "F-test for Poolability: 3.177e-11\n",
      "P-value: 1.0000\n",
      "Distribution: F(11,5278)\n",
      "\n",
      "Included effects: Entity\n",
      "\n",
      "Random Effects:\n",
      "                         RandomEffects Estimation Summary                        \n",
      "================================================================================\n",
      "Dep. Variable:                   ldsa   R-squared:                        0.9139\n",
      "Estimator:              RandomEffects   R-squared (Between):             -2.2946\n",
      "No. Observations:                5292   R-squared (Within):               0.9139\n",
      "Date:                Tue, Feb 18 2025   R-squared (Overall):              0.9139\n",
      "Time:                        11:32:46   Log-likelihood                   -2125.9\n",
      "Cov. Estimator:            Unadjusted                                           \n",
      "                                        F-statistic:                   2.808e+04\n",
      "Entities:                          12   P-value                           0.0000\n",
      "Avg Obs:                       441.00   Distribution:                  F(2,5290)\n",
      "Min Obs:                       441.00                                           \n",
      "Max Obs:                       441.00   F-statistic (robust):          2.808e+04\n",
      "                                        P-value                           0.0000\n",
      "Time periods:                    5292   Distribution:                  F(2,5290)\n",
      "Avg Obs:                       1.0000                                           \n",
      "Min Obs:                       1.0000                                           \n",
      "Max Obs:                       1.0000                                           \n",
      "                                                                                \n",
      "                             Parameter Estimates                              \n",
      "==============================================================================\n",
      "            Parameter  Std. Err.     T-stat    P-value    Lower CI    Upper CI\n",
      "------------------------------------------------------------------------------\n",
      "lcap           0.3100     0.0091     33.927     0.0000      0.2921      0.3280\n",
      "lemp           0.6748     0.0102     66.469     0.0000      0.6549      0.6947\n",
      "==============================================================================\n",
      "\n",
      "Wald-test for konstant skalaafkast: Test-statistik = 1.233, p-værdi = 0.267\n",
      "\n",
      "Hausman-test mellem FE og RE: Test-statistik = 0.000, p-værdi = 1.000\n"
     ]
    }
   ],
   "source": [
    "import pandas as pd\n",
    "import numpy as np\n",
    "import statsmodels.api as sm\n",
    "import statsmodels.formula.api as smf\n",
    "from linearmodels.panel import PanelOLS, RandomEffects\n",
    "from scipy.stats import chi2\n",
    "\n",
    "# Indlæs data fra firms.csv\n",
    "dat = pd.read_csv('firms.csv')\n",
    "\n",
    "# Konverter til paneldata format (hvorfor paneldata? fordi vi skal estimere en lineær paneldata-model for Cobb-Douglas produktionsfunktionen.)\n",
    "dat['year'] = dat.index % 12  \n",
    "dat = dat.set_index(['year', dat.index])\n",
    "\n",
    "# Estimer Pooled OLS\n",
    "pooled_ols = smf.ols('ldsa ~ lcap + lemp', data=dat).fit()\n",
    "\n",
    "# Estimer Fixed Effects (FE)\n",
    "fe_model = PanelOLS.from_formula('ldsa ~ lcap + lemp + EntityEffects', data=dat).fit()\n",
    "\n",
    "# Estimer Random Effects (RE)\n",
    "re_model = RandomEffects.from_formula('ldsa ~ lcap + lemp', data=dat).fit()\n",
    "\n",
    "# Hypotesetest: Konstant skalaafkast\n",
    "beta_k, beta_l = fe_model.params['lcap'], fe_model.params['lemp']\n",
    "wald_stat = ((beta_k + beta_l - 1)**2) / (fe_model.cov.iloc[0, 0] + fe_model.cov.iloc[1, 1])\n",
    "p_value = 1 - chi2.cdf(wald_stat, 1)\n",
    "\n",
    "# Hausman-test mellem FE og RE\n",
    "diff = fe_model.params - re_model.params\n",
    "var_diff = fe_model.cov + re_model.cov\n",
    "hausman_stat = diff.T @ np.linalg.inv(var_diff) @ diff\n",
    "hausman_p_value = 1 - chi2.cdf(hausman_stat, len(diff))\n",
    "\n",
    "# Udskriv resultater\n",
    "print(\"Pooled OLS:\\n\", pooled_ols.summary())\n",
    "print(\"\\nFixed Effects:\\n\", fe_model.summary)\n",
    "print(\"\\nRandom Effects:\\n\", re_model.summary)\n",
    "print(f\"\\nWald-test for konstant skalaafkast: Test-statistik = {wald_stat:.3f}, p-værdi = {p_value:.3f}\")\n",
    "print(f\"\\nHausman-test mellem FE og RE: Test-statistik = {hausman_stat:.3f}, p-værdi = {hausman_p_value:.3f}\")\n"
   ]
  }
 ],
 "metadata": {
  "kernelspec": {
   "display_name": "base",
   "language": "python",
   "name": "python3"
  },
  "language_info": {
   "codemirror_mode": {
    "name": "ipython",
    "version": 3
   },
   "file_extension": ".py",
   "mimetype": "text/x-python",
   "name": "python",
   "nbconvert_exporter": "python",
   "pygments_lexer": "ipython3",
   "version": "3.11.7"
  }
 },
 "nbformat": 4,
 "nbformat_minor": 2
}
