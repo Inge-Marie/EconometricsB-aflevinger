{
 "cells": [
  {
   "cell_type": "markdown",
   "metadata": {},
   "source": [
    "# Production Technology\n",
    "\n",
    "The dataset contains `N = 441` firms observed over `T = 12` years, 1968-1979. There variables are: \n",
    "* `lcap`: Log of capital stock, $k_{it}$ \n",
    "* `lemp`: log of employment, $\\ell_{it}$ \n",
    "* `ldsa`: log of deflated sales, $y_{it}$\n",
    "* `year`: the calendar year of the observation, `year` $ = 1968, ..., 1979$, \n",
    "* `firmid`: anonymized indicator variable for the firm, $i = 1, ..., N$, with $N=441$. "
   ]
  },
  {
   "cell_type": "code",
   "execution_count": 8,
   "metadata": {},
   "outputs": [],
   "source": [
    "import pandas as pd \n",
    "import numpy as np\n",
    "import seaborn as sns\n",
    "import statsmodels.api as sm\n",
    "import statsmodels.formula.api as smf\n",
    "from linearmodels.panel import PanelOLS, RandomEffects\n",
    "from scipy.stats import chi2"
   ]
  },
  {
   "cell_type": "code",
   "execution_count": 9,
   "metadata": {},
   "outputs": [
    {
     "name": "stdout",
     "output_type": "stream",
     "text": [
      "Pooled OLS:\n",
      "                             OLS Regression Results                            \n",
      "==============================================================================\n",
      "Dep. Variable:                   ldsa   R-squared:                       0.914\n",
      "Model:                            OLS   Adj. R-squared:                  0.914\n",
      "Method:                 Least Squares   F-statistic:                 2.807e+04\n",
      "Date:                Tue, 18 Feb 2025   Prob (F-statistic):               0.00\n",
      "Time:                        11:35:57   Log-Likelihood:                -2125.9\n",
      "No. Observations:                5292   AIC:                             4258.\n",
      "Df Residuals:                    5289   BIC:                             4277.\n",
      "Df Model:                           2                                         \n",
      "Covariance Type:            nonrobust                                         \n",
      "==============================================================================\n",
      "                 coef    std err          t      P>|t|      [0.025      0.975]\n",
      "------------------------------------------------------------------------------\n",
      "Intercept   1.536e-08      0.005   3.09e-06      1.000      -0.010       0.010\n",
      "lcap           0.3100      0.009     33.924      0.000       0.292       0.328\n",
      "lemp           0.6748      0.010     66.462      0.000       0.655       0.695\n",
      "==============================================================================\n",
      "Omnibus:                      279.597   Durbin-Watson:                   0.277\n",
      "Prob(Omnibus):                  0.000   Jarque-Bera (JB):              417.873\n",
      "Skew:                           0.465   Prob(JB):                     1.82e-91\n",
      "Kurtosis:                       4.015   Cond. No.                         4.63\n",
      "==============================================================================\n",
      "\n",
      "Notes:\n",
      "[1] Standard Errors assume that the covariance matrix of the errors is correctly specified.\n",
      "\n",
      "Fixed Effects:\n",
      "                           PanelOLS Estimation Summary                           \n",
      "================================================================================\n",
      "Dep. Variable:                   ldsa   R-squared:                        0.9139\n",
      "Estimator:                   PanelOLS   R-squared (Between):             -2.2946\n",
      "No. Observations:                5292   R-squared (Within):               0.9139\n",
      "Date:                Tue, Feb 18 2025   R-squared (Overall):              0.9139\n",
      "Time:                        11:35:57   Log-likelihood                   -2125.9\n",
      "Cov. Estimator:            Unadjusted                                           \n",
      "                                        F-statistic:                   2.801e+04\n",
      "Entities:                          12   P-value                           0.0000\n",
      "Avg Obs:                       441.00   Distribution:                  F(2,5278)\n",
      "Min Obs:                       441.00                                           \n",
      "Max Obs:                       441.00   F-statistic (robust):          2.801e+04\n",
      "                                        P-value                           0.0000\n",
      "Time periods:                    5292   Distribution:                  F(2,5278)\n",
      "Avg Obs:                       1.0000                                           \n",
      "Min Obs:                       1.0000                                           \n",
      "Max Obs:                       1.0000                                           \n",
      "                                                                                \n",
      "                             Parameter Estimates                              \n",
      "==============================================================================\n",
      "            Parameter  Std. Err.     T-stat    P-value    Lower CI    Upper CI\n",
      "------------------------------------------------------------------------------\n",
      "lcap           0.3100     0.0091     33.888     0.0000      0.2921      0.3280\n",
      "lemp           0.6748     0.0102     66.393     0.0000      0.6549      0.6947\n",
      "==============================================================================\n",
      "\n",
      "F-test for Poolability: 3.177e-11\n",
      "P-value: 1.0000\n",
      "Distribution: F(11,5278)\n",
      "\n",
      "Included effects: Entity\n",
      "\n",
      "Random Effects:\n",
      "                         RandomEffects Estimation Summary                        \n",
      "================================================================================\n",
      "Dep. Variable:                   ldsa   R-squared:                        0.9139\n",
      "Estimator:              RandomEffects   R-squared (Between):             -2.2946\n",
      "No. Observations:                5292   R-squared (Within):               0.9139\n",
      "Date:                Tue, Feb 18 2025   R-squared (Overall):              0.9139\n",
      "Time:                        11:35:57   Log-likelihood                   -2125.9\n",
      "Cov. Estimator:            Unadjusted                                           \n",
      "                                        F-statistic:                   2.808e+04\n",
      "Entities:                          12   P-value                           0.0000\n",
      "Avg Obs:                       441.00   Distribution:                  F(2,5290)\n",
      "Min Obs:                       441.00                                           \n",
      "Max Obs:                       441.00   F-statistic (robust):          2.808e+04\n",
      "                                        P-value                           0.0000\n",
      "Time periods:                    5292   Distribution:                  F(2,5290)\n",
      "Avg Obs:                       1.0000                                           \n",
      "Min Obs:                       1.0000                                           \n",
      "Max Obs:                       1.0000                                           \n",
      "                                                                                \n",
      "                             Parameter Estimates                              \n",
      "==============================================================================\n",
      "            Parameter  Std. Err.     T-stat    P-value    Lower CI    Upper CI\n",
      "------------------------------------------------------------------------------\n",
      "lcap           0.3100     0.0091     33.927     0.0000      0.2921      0.3280\n",
      "lemp           0.6748     0.0102     66.469     0.0000      0.6549      0.6947\n",
      "==============================================================================\n",
      "\n",
      "Wald-test for konstant skalaafkast: Test-statistik = 1.233, p-værdi = 0.267\n",
      "\n",
      "Hausman-test mellem FE og RE: Test-statistik = 0.000, p-værdi = 1.000\n"
     ]
    }
   ],
   "source": [
    "# Indlæs data fra firms.csv\n",
    "dat = pd.read_csv('firms.csv')\n",
    "\n",
    "# Konverter til paneldata format (hvorfor paneldata? fordi vi skal estimere en lineær paneldata-model for Cobb-Douglas produktionsfunktionen.)\n",
    "dat['year'] = dat.index % 12  \n",
    "dat = dat.set_index(['year', dat.index])\n",
    "\n",
    "# Estimer Pooled OLS\n",
    "pooled_ols = smf.ols('ldsa ~ lcap + lemp', data=dat).fit()\n",
    "\n",
    "# Estimer Fixed Effects (FE)\n",
    "fe_model = PanelOLS.from_formula('ldsa ~ lcap + lemp + EntityEffects', data=dat).fit()\n",
    "\n",
    "# Estimer Random Effects (RE)\n",
    "re_model = RandomEffects.from_formula('ldsa ~ lcap + lemp', data=dat).fit()\n",
    "\n",
    "# Hypotesetest: Konstant skalaafkast\n",
    "beta_k, beta_l = fe_model.params['lcap'], fe_model.params['lemp']\n",
    "wald_stat = ((beta_k + beta_l - 1)**2) / (fe_model.cov.iloc[0, 0] + fe_model.cov.iloc[1, 1])\n",
    "p_value = 1 - chi2.cdf(wald_stat, 1)\n",
    "\n",
    "# Hausman-test mellem FE og RE\n",
    "diff = fe_model.params - re_model.params\n",
    "var_diff = fe_model.cov + re_model.cov\n",
    "hausman_stat = diff.T @ np.linalg.inv(var_diff) @ diff\n",
    "hausman_p_value = 1 - chi2.cdf(hausman_stat, len(diff))\n",
    "\n",
    "# Udskriv resultater\n",
    "print(\"Pooled OLS:\\n\", pooled_ols.summary())\n",
    "print(\"\\nFixed Effects:\\n\", fe_model.summary)\n",
    "print(\"\\nRandom Effects:\\n\", re_model.summary)\n",
    "print(f\"\\nWald-test for konstant skalaafkast: Test-statistik = {wald_stat:.3f}, p-værdi = {p_value:.3f}\")\n",
    "print(f\"\\nHausman-test mellem FE og RE: Test-statistik = {hausman_stat:.3f}, p-værdi = {hausman_p_value:.3f}\")"
   ]
  },
  {
   "cell_type": "code",
   "execution_count": 3,
   "metadata": {},
   "outputs": [
    {
     "data": {
      "text/html": [
       "<div>\n",
       "<style scoped>\n",
       "    .dataframe tbody tr th:only-of-type {\n",
       "        vertical-align: middle;\n",
       "    }\n",
       "\n",
       "    .dataframe tbody tr th {\n",
       "        vertical-align: top;\n",
       "    }\n",
       "\n",
       "    .dataframe thead th {\n",
       "        text-align: right;\n",
       "    }\n",
       "</style>\n",
       "<table border=\"1\" class=\"dataframe\">\n",
       "  <thead>\n",
       "    <tr style=\"text-align: right;\">\n",
       "      <th></th>\n",
       "      <th>firmid</th>\n",
       "      <th>year</th>\n",
       "      <th>lcap</th>\n",
       "      <th>lemp</th>\n",
       "      <th>ldsa</th>\n",
       "    </tr>\n",
       "  </thead>\n",
       "  <tbody>\n",
       "    <tr>\n",
       "      <th>981</th>\n",
       "      <td>82</td>\n",
       "      <td>1977</td>\n",
       "      <td>-0.439564</td>\n",
       "      <td>-0.057154</td>\n",
       "      <td>-0.294509</td>\n",
       "    </tr>\n",
       "    <tr>\n",
       "      <th>3123</th>\n",
       "      <td>261</td>\n",
       "      <td>1971</td>\n",
       "      <td>-0.222340</td>\n",
       "      <td>-0.665476</td>\n",
       "      <td>-0.734462</td>\n",
       "    </tr>\n",
       "    <tr>\n",
       "      <th>612</th>\n",
       "      <td>52</td>\n",
       "      <td>1968</td>\n",
       "      <td>0.613186</td>\n",
       "      <td>0.380193</td>\n",
       "      <td>-0.072574</td>\n",
       "    </tr>\n",
       "    <tr>\n",
       "      <th>4913</th>\n",
       "      <td>410</td>\n",
       "      <td>1973</td>\n",
       "      <td>-2.010690</td>\n",
       "      <td>-1.645560</td>\n",
       "      <td>-1.657590</td>\n",
       "    </tr>\n",
       "    <tr>\n",
       "      <th>5287</th>\n",
       "      <td>441</td>\n",
       "      <td>1975</td>\n",
       "      <td>-1.006080</td>\n",
       "      <td>-0.956662</td>\n",
       "      <td>-0.547157</td>\n",
       "    </tr>\n",
       "  </tbody>\n",
       "</table>\n",
       "</div>"
      ],
      "text/plain": [
       "      firmid  year      lcap      lemp      ldsa\n",
       "981       82  1977 -0.439564 -0.057154 -0.294509\n",
       "3123     261  1971 -0.222340 -0.665476 -0.734462\n",
       "612       52  1968  0.613186  0.380193 -0.072574\n",
       "4913     410  1973 -2.010690 -1.645560 -1.657590\n",
       "5287     441  1975 -1.006080 -0.956662 -0.547157"
      ]
     },
     "execution_count": 3,
     "metadata": {},
     "output_type": "execute_result"
    }
   ],
   "source": [
    "dat.sample(5)"
   ]
  },
  {
   "cell_type": "code",
   "execution_count": 4,
   "metadata": {},
   "outputs": [
    {
     "data": {
      "text/plain": [
       "array([1968, 1969, 1970, 1971, 1972, 1973, 1974, 1975, 1976, 1977, 1978,\n",
       "       1979])"
      ]
     },
     "execution_count": 4,
     "metadata": {},
     "output_type": "execute_result"
    }
   ],
   "source": [
    "dat.year.unique()"
   ]
  },
  {
   "cell_type": "markdown",
   "metadata": {},
   "source": [
    "# Descriptives"
   ]
  },
  {
   "cell_type": "code",
   "execution_count": 6,
   "metadata": {},
   "outputs": [
    {
     "data": {
      "text/html": [
       "<div>\n",
       "<style scoped>\n",
       "    .dataframe tbody tr th:only-of-type {\n",
       "        vertical-align: middle;\n",
       "    }\n",
       "\n",
       "    .dataframe tbody tr th {\n",
       "        vertical-align: top;\n",
       "    }\n",
       "\n",
       "    .dataframe thead th {\n",
       "        text-align: right;\n",
       "    }\n",
       "</style>\n",
       "<table border=\"1\" class=\"dataframe\">\n",
       "  <thead>\n",
       "    <tr style=\"text-align: right;\">\n",
       "      <th></th>\n",
       "      <th>firmid</th>\n",
       "      <th>lcap</th>\n",
       "      <th>lempl</th>\n",
       "      <th>ldsa</th>\n",
       "    </tr>\n",
       "  </thead>\n",
       "  <tbody>\n",
       "    <tr>\n",
       "      <th>count</th>\n",
       "      <td>5292.000000</td>\n",
       "      <td>5.292000e+03</td>\n",
       "      <td>5.292000e+03</td>\n",
       "      <td>5.292000e+03</td>\n",
       "    </tr>\n",
       "    <tr>\n",
       "      <th>mean</th>\n",
       "      <td>221.000000</td>\n",
       "      <td>-7.125472e-09</td>\n",
       "      <td>-1.252834e-08</td>\n",
       "      <td>4.695767e-09</td>\n",
       "    </tr>\n",
       "    <tr>\n",
       "      <th>std</th>\n",
       "      <td>127.317437</td>\n",
       "      <td>1.310973e+00</td>\n",
       "      <td>1.180122e+00</td>\n",
       "      <td>1.232499e+00</td>\n",
       "    </tr>\n",
       "    <tr>\n",
       "      <th>min</th>\n",
       "      <td>1.000000</td>\n",
       "      <td>-3.864950e+00</td>\n",
       "      <td>-3.382780e+00</td>\n",
       "      <td>-3.551540e+00</td>\n",
       "    </tr>\n",
       "    <tr>\n",
       "      <th>25%</th>\n",
       "      <td>111.000000</td>\n",
       "      <td>-9.083267e-01</td>\n",
       "      <td>-7.855270e-01</td>\n",
       "      <td>-9.279720e-01</td>\n",
       "    </tr>\n",
       "    <tr>\n",
       "      <th>50%</th>\n",
       "      <td>221.000000</td>\n",
       "      <td>-1.180615e-01</td>\n",
       "      <td>-1.137295e-01</td>\n",
       "      <td>-1.029710e-01</td>\n",
       "    </tr>\n",
       "    <tr>\n",
       "      <th>75%</th>\n",
       "      <td>331.000000</td>\n",
       "      <td>9.063340e-01</td>\n",
       "      <td>7.930060e-01</td>\n",
       "      <td>8.562296e-01</td>\n",
       "    </tr>\n",
       "    <tr>\n",
       "      <th>max</th>\n",
       "      <td>441.000000</td>\n",
       "      <td>4.103687e+00</td>\n",
       "      <td>3.371332e+00</td>\n",
       "      <td>3.913391e+00</td>\n",
       "    </tr>\n",
       "  </tbody>\n",
       "</table>\n",
       "</div>"
      ],
      "text/plain": [
       "            firmid          lcap         lempl          ldsa\n",
       "count  5292.000000  5.292000e+03  5.292000e+03  5.292000e+03\n",
       "mean    221.000000 -7.125472e-09 -1.252834e-08  4.695767e-09\n",
       "std     127.317437  1.310973e+00  1.180122e+00  1.232499e+00\n",
       "min       1.000000 -3.864950e+00 -3.382780e+00 -3.551540e+00\n",
       "25%     111.000000 -9.083267e-01 -7.855270e-01 -9.279720e-01\n",
       "50%     221.000000 -1.180615e-01 -1.137295e-01 -1.029710e-01\n",
       "75%     331.000000  9.063340e-01  7.930060e-01  8.562296e-01\n",
       "max     441.000000  4.103687e+00  3.371332e+00  3.913391e+00"
      ]
     },
     "execution_count": 6,
     "metadata": {},
     "output_type": "execute_result"
    }
   ],
   "source": [
    "dat.describe()"
   ]
  },
  {
   "cell_type": "code",
   "execution_count": 7,
   "metadata": {},
   "outputs": [
    {
     "ename": "KeyError",
     "evalue": "\"['lemp'] not in index\"",
     "output_type": "error",
     "traceback": [
      "\u001b[0;31m---------------------------------------------------------------------------\u001b[0m",
      "\u001b[0;31mKeyError\u001b[0m                                  Traceback (most recent call last)",
      "Cell \u001b[0;32mIn[7], line 1\u001b[0m\n\u001b[0;32m----> 1\u001b[0m dat[[\u001b[38;5;124m'\u001b[39m\u001b[38;5;124mlcap\u001b[39m\u001b[38;5;124m'\u001b[39m,\u001b[38;5;124m'\u001b[39m\u001b[38;5;124mlemp\u001b[39m\u001b[38;5;124m'\u001b[39m,\u001b[38;5;124m'\u001b[39m\u001b[38;5;124mldsa\u001b[39m\u001b[38;5;124m'\u001b[39m]]\u001b[38;5;241m.\u001b[39mhist()\n",
      "File \u001b[0;32m/opt/anaconda3/lib/python3.11/site-packages/pandas/core/frame.py:3899\u001b[0m, in \u001b[0;36mDataFrame.__getitem__\u001b[0;34m(self, key)\u001b[0m\n\u001b[1;32m   3897\u001b[0m     \u001b[38;5;28;01mif\u001b[39;00m is_iterator(key):\n\u001b[1;32m   3898\u001b[0m         key \u001b[38;5;241m=\u001b[39m \u001b[38;5;28mlist\u001b[39m(key)\n\u001b[0;32m-> 3899\u001b[0m     indexer \u001b[38;5;241m=\u001b[39m \u001b[38;5;28mself\u001b[39m\u001b[38;5;241m.\u001b[39mcolumns\u001b[38;5;241m.\u001b[39m_get_indexer_strict(key, \u001b[38;5;124m\"\u001b[39m\u001b[38;5;124mcolumns\u001b[39m\u001b[38;5;124m\"\u001b[39m)[\u001b[38;5;241m1\u001b[39m]\n\u001b[1;32m   3901\u001b[0m \u001b[38;5;66;03m# take() does not accept boolean indexers\u001b[39;00m\n\u001b[1;32m   3902\u001b[0m \u001b[38;5;28;01mif\u001b[39;00m \u001b[38;5;28mgetattr\u001b[39m(indexer, \u001b[38;5;124m\"\u001b[39m\u001b[38;5;124mdtype\u001b[39m\u001b[38;5;124m\"\u001b[39m, \u001b[38;5;28;01mNone\u001b[39;00m) \u001b[38;5;241m==\u001b[39m \u001b[38;5;28mbool\u001b[39m:\n",
      "File \u001b[0;32m/opt/anaconda3/lib/python3.11/site-packages/pandas/core/indexes/base.py:6115\u001b[0m, in \u001b[0;36mIndex._get_indexer_strict\u001b[0;34m(self, key, axis_name)\u001b[0m\n\u001b[1;32m   6112\u001b[0m \u001b[38;5;28;01melse\u001b[39;00m:\n\u001b[1;32m   6113\u001b[0m     keyarr, indexer, new_indexer \u001b[38;5;241m=\u001b[39m \u001b[38;5;28mself\u001b[39m\u001b[38;5;241m.\u001b[39m_reindex_non_unique(keyarr)\n\u001b[0;32m-> 6115\u001b[0m \u001b[38;5;28mself\u001b[39m\u001b[38;5;241m.\u001b[39m_raise_if_missing(keyarr, indexer, axis_name)\n\u001b[1;32m   6117\u001b[0m keyarr \u001b[38;5;241m=\u001b[39m \u001b[38;5;28mself\u001b[39m\u001b[38;5;241m.\u001b[39mtake(indexer)\n\u001b[1;32m   6118\u001b[0m \u001b[38;5;28;01mif\u001b[39;00m \u001b[38;5;28misinstance\u001b[39m(key, Index):\n\u001b[1;32m   6119\u001b[0m     \u001b[38;5;66;03m# GH 42790 - Preserve name from an Index\u001b[39;00m\n",
      "File \u001b[0;32m/opt/anaconda3/lib/python3.11/site-packages/pandas/core/indexes/base.py:6179\u001b[0m, in \u001b[0;36mIndex._raise_if_missing\u001b[0;34m(self, key, indexer, axis_name)\u001b[0m\n\u001b[1;32m   6176\u001b[0m     \u001b[38;5;28;01mraise\u001b[39;00m \u001b[38;5;167;01mKeyError\u001b[39;00m(\u001b[38;5;124mf\u001b[39m\u001b[38;5;124m\"\u001b[39m\u001b[38;5;124mNone of [\u001b[39m\u001b[38;5;132;01m{\u001b[39;00mkey\u001b[38;5;132;01m}\u001b[39;00m\u001b[38;5;124m] are in the [\u001b[39m\u001b[38;5;132;01m{\u001b[39;00maxis_name\u001b[38;5;132;01m}\u001b[39;00m\u001b[38;5;124m]\u001b[39m\u001b[38;5;124m\"\u001b[39m)\n\u001b[1;32m   6178\u001b[0m not_found \u001b[38;5;241m=\u001b[39m \u001b[38;5;28mlist\u001b[39m(ensure_index(key)[missing_mask\u001b[38;5;241m.\u001b[39mnonzero()[\u001b[38;5;241m0\u001b[39m]]\u001b[38;5;241m.\u001b[39munique())\n\u001b[0;32m-> 6179\u001b[0m \u001b[38;5;28;01mraise\u001b[39;00m \u001b[38;5;167;01mKeyError\u001b[39;00m(\u001b[38;5;124mf\u001b[39m\u001b[38;5;124m\"\u001b[39m\u001b[38;5;132;01m{\u001b[39;00mnot_found\u001b[38;5;132;01m}\u001b[39;00m\u001b[38;5;124m not in index\u001b[39m\u001b[38;5;124m\"\u001b[39m)\n",
      "\u001b[0;31mKeyError\u001b[0m: \"['lemp'] not in index\""
     ]
    }
   ],
   "source": [
    "dat[['lcap','lemp','ldsa']].hist();"
   ]
  },
  {
   "cell_type": "code",
   "execution_count": null,
   "metadata": {},
   "outputs": [],
   "source": [
    "sns.scatterplot(x='lemp', y='ldsa', data=dat); "
   ]
  },
  {
   "cell_type": "markdown",
   "metadata": {},
   "source": [
    "# Converting data to numpy format "
   ]
  },
  {
   "cell_type": "code",
   "execution_count": null,
   "metadata": {},
   "outputs": [],
   "source": [
    "dat.ldsa.values.shape"
   ]
  },
  {
   "cell_type": "code",
   "execution_count": null,
   "metadata": {},
   "outputs": [],
   "source": [
    "N = dat.firmid.unique().size\n",
    "T = dat.year.unique().size\n",
    "assert dat.shape[0] == N*T, f'Error: data is not a balanced panel'\n",
    "print(f'Data has N={N} and T={T}')"
   ]
  },
  {
   "cell_type": "markdown",
   "metadata": {},
   "source": [
    "Extract data from `pandas` to `numpy` arrays. "
   ]
  },
  {
   "cell_type": "code",
   "execution_count": null,
   "metadata": {},
   "outputs": [],
   "source": [
    "y = dat.ldsa.values.reshape((N*T,1))\n",
    "\n",
    "ones = np.ones((N*T,1))\n",
    "l = dat.lemp.values.reshape((N*T,1))\n",
    "k = dat.lcap.values.reshape((N*T,1))\n",
    "X = np.hstack([ones, l, k])"
   ]
  },
  {
   "cell_type": "code",
   "execution_count": null,
   "metadata": {},
   "outputs": [],
   "source": []
  }
 ],
 "metadata": {
  "kernelspec": {
   "display_name": "base",
   "language": "python",
   "name": "python3"
  },
  "language_info": {
   "codemirror_mode": {
    "name": "ipython",
    "version": 3
   },
   "file_extension": ".py",
   "mimetype": "text/x-python",
   "name": "python",
   "nbconvert_exporter": "python",
   "pygments_lexer": "ipython3",
   "version": "3.11.7"
  },
  "vscode": {
   "interpreter": {
    "hash": "ef42839c56fd8bee084dafb278faf4416bb17c87278e59e0e4bb5f7c8f27c505"
   }
  }
 },
 "nbformat": 4,
 "nbformat_minor": 4
}
